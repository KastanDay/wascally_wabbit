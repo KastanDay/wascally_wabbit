{
 "cells": [
  {
   "cell_type": "markdown",
   "id": "ad07d47f-e887-457a-8ec1-f385bd83f3a2",
   "metadata": {},
   "source": [
    "# Reading and plotting data from WRF-PartMC netCDF file"
   ]
  },
  {
   "cell_type": "code",
   "execution_count": null,
   "id": "882fdeaa-d8b7-4d5d-becc-6ebc3adf3cb5",
   "metadata": {},
   "outputs": [],
   "source": [
    "import numpy as np\n",
    "from netCDF4 import Dataset\n",
    "import cartopy\n",
    "import matplotlib.pyplot as plt\n",
    "import matplotlib.colors as colors\n",
    "import wrf"
   ]
  },
  {
   "cell_type": "code",
   "execution_count": null,
   "id": "4ec6474c-2287-4ce7-9ca0-712c1573d101",
   "metadata": {},
   "outputs": [],
   "source": [
    "def apply_map_features(axes):\n",
    "    ''' Adds map features '''\n",
    "    axes.coastlines(resolution='50m', color='black', linewidth=1)\n",
    "    states_provinces = cartopy.feature.NaturalEarthFeature(\n",
    "        category='cultural',\n",
    "        name='admin_1_states_provinces_lines',\n",
    "        scale='50m',\n",
    "        facecolor='none')\n",
    "    axes.add_feature(states_provinces, edgecolor='black')\n",
    "    \n",
    "    return"
   ]
  },
  {
   "cell_type": "code",
   "execution_count": null,
   "id": "5337400d-de43-4e56-873a-64b5f6514483",
   "metadata": {},
   "outputs": [],
   "source": [
    "# Load netcdf file\n",
    "data_dir = '/home/jcurtis2/hackathon_data/'\n",
    "wrf_filename = '%straining.nc' % data_dir\n",
    "ncf = Dataset(wrf_filename, \"r\", format=\"NETCDF4\")"
   ]
  },
  {
   "cell_type": "code",
   "execution_count": null,
   "id": "756691b6-8711-450a-bd30-df9510db78b0",
   "metadata": {},
   "outputs": [],
   "source": [
    "# WRF map projection\n",
    "cart_proj = cartopy.crs.LambertConformal(central_longitude=-97,central_latitude=38)\n",
    "# Data projection\n",
    "data_proj = cartopy.crs.PlateCarree()"
   ]
  },
  {
   "cell_type": "code",
   "execution_count": null,
   "id": "20785834-4916-4d8e-952f-5aa2932ba751",
   "metadata": {},
   "outputs": [],
   "source": [
    "# Static data\n",
    "lats = ncf.variables['XLAT'][0,:,:]\n",
    "lons = ncf.variables['XLONG'][0,:,:]"
   ]
  },
  {
   "cell_type": "code",
   "execution_count": null,
   "id": "1308d94c-1a56-4aea-8628-ecf4135cfd93",
   "metadata": {},
   "outputs": [],
   "source": [
    "i_time = -1 # Scecify output time to plot\n",
    "i_z = 0 # Specify level to plot"
   ]
  },
  {
   "cell_type": "markdown",
   "id": "41d0f08f-0700-4327-8121-c37bbce683a6",
   "metadata": {},
   "source": [
    "### Plot ozone mixing ratio"
   ]
  },
  {
   "cell_type": "code",
   "execution_count": null,
   "id": "eb5fb0ac-bd6a-47b3-a9ff-40c1775aa30d",
   "metadata": {},
   "outputs": [],
   "source": [
    "fig = plt.figure()\n",
    "axes = fig.add_subplot(projection=cart_proj)\n",
    "data = ncf.variables['o3']\n",
    "\n",
    "norm = colors.Normalize(0,100)\n",
    "c = axes.pcolormesh(lons,lats,data[i_time,i_z,:,:],\n",
    "                       norm=norm,transform=data_proj)\n",
    "\n",
    "apply_map_features(axes)\n",
    "cbar = fig.colorbar(c)\n",
    "cbar.set_label('ozone mixing ratio (ppb)')\n",
    "fig.savefig('example_gas.pdf');"
   ]
  },
  {
   "cell_type": "markdown",
   "id": "d0887f5e-bef3-4c6f-98d9-892c89158442",
   "metadata": {},
   "source": [
    "### Plot aerosol number concentration"
   ]
  },
  {
   "cell_type": "code",
   "execution_count": null,
   "id": "7a10b41e-c2bf-4cfc-bb03-7e3f9bfb9d44",
   "metadata": {},
   "outputs": [],
   "source": [
    "fig = plt.figure()\n",
    "axes = fig.add_subplot(projection=cart_proj)\n",
    "data = ncf.variables['TOT_NUM_CONC'][:]\n",
    "\n",
    "norm = colors.LogNorm(1e6,1e9)\n",
    "c = axes.pcolormesh(lons,lats,data[i_time,i_z,:,:],\n",
    "                       norm=norm,transform=data_proj)\n",
    "\n",
    "apply_map_features(axes)\n",
    "cbar = fig.colorbar(c)\n",
    "cbar.set_label('number concentration (# m$^{-3}$)')\n",
    "fig.savefig('example_aerosols.pdf');"
   ]
  },
  {
   "cell_type": "markdown",
   "id": "3a337af9-8e22-4289-b707-82ece83ae05d",
   "metadata": {},
   "source": [
    "### Selecting range of data\n",
    "\n",
    "It will be necessary to exclude some of the data from the dataset. In particular, removing horizontal boundary conditions (domain edges)."
   ]
  },
  {
   "cell_type": "code",
   "execution_count": null,
   "id": "17bee8de-938d-4074-bf59-5a2e14e31b31",
   "metadata": {},
   "outputs": [],
   "source": [
    "(nt,nz,ny,nx) = data.shape\n",
    "print(nt,nz,ny,nx)\n",
    "\n",
    "x_s = 1\n",
    "x_e = nx-1\n",
    "y_s = 1\n",
    "y_e = ny-1\n",
    "z_s = 0\n",
    "z_e = nz\n",
    "t_s = 0\n",
    "t_e = nt\n",
    "print(data[t_s:t_e,z_s:z_e,y_s:y_e,x_s:x_e].shape)"
   ]
  },
  {
   "cell_type": "code",
   "execution_count": null,
   "id": "896ffa0c-2f54-4891-966c-ea009167fd59",
   "metadata": {},
   "outputs": [],
   "source": [
    "ncf.close() # Close netcdf file"
   ]
  }
 ],
 "metadata": {
  "kernelspec": {
   "display_name": "Python 3 (ipykernel)",
   "language": "python",
   "name": "python3"
  },
  "language_info": {
   "codemirror_mode": {
    "name": "ipython",
    "version": 3
   },
   "file_extension": ".py",
   "mimetype": "text/x-python",
   "name": "python",
   "nbconvert_exporter": "python",
   "pygments_lexer": "ipython3",
   "version": "3.9.9"
  }
 },
 "nbformat": 4,
 "nbformat_minor": 5
}
